{
  "nbformat": 4,
  "nbformat_minor": 0,
  "metadata": {
    "colab": {
      "provenance": [],
      "authorship_tag": "ABX9TyO6WHABaAt0I2x9x+lihuzX",
      "include_colab_link": true
    },
    "kernelspec": {
      "name": "python3",
      "display_name": "Python 3"
    },
    "language_info": {
      "name": "python"
    },
    "widgets": {
      "application/vnd.jupyter.widget-state+json": {
        "e1b7bee2933344e1892748d966f3cc16": {
          "model_module": "@jupyter-widgets/controls",
          "model_name": "VBoxModel",
          "model_module_version": "1.5.0",
          "state": {
            "_dom_classes": [
              "widget-interact"
            ],
            "_model_module": "@jupyter-widgets/controls",
            "_model_module_version": "1.5.0",
            "_model_name": "VBoxModel",
            "_view_count": null,
            "_view_module": "@jupyter-widgets/controls",
            "_view_module_version": "1.5.0",
            "_view_name": "VBoxView",
            "box_style": "",
            "children": [
              "IPY_MODEL_3ee06aa42cf04c5eb404b96caf4ccea6",
              "IPY_MODEL_256116a60d234a058b33dcf0e69c1ce2",
              "IPY_MODEL_6382da12457a4d7d86c637c5eb000d4a"
            ],
            "layout": "IPY_MODEL_6b8ab9b425ac472ea1bd1be73789dfbc"
          }
        },
        "3ee06aa42cf04c5eb404b96caf4ccea6": {
          "model_module": "@jupyter-widgets/controls",
          "model_name": "DropdownModel",
          "model_module_version": "1.5.0",
          "state": {
            "_dom_classes": [],
            "_model_module": "@jupyter-widgets/controls",
            "_model_module_version": "1.5.0",
            "_model_name": "DropdownModel",
            "_options_labels": [
              "linear",
              "rbf"
            ],
            "_view_count": null,
            "_view_module": "@jupyter-widgets/controls",
            "_view_module_version": "1.5.0",
            "_view_name": "DropdownView",
            "description": "kernel",
            "description_tooltip": null,
            "disabled": false,
            "index": 0,
            "layout": "IPY_MODEL_a9afc9392735498e915533b4fe3c111b",
            "style": "IPY_MODEL_7c42ed490ca6437cb9b395a549b8ece1"
          }
        },
        "256116a60d234a058b33dcf0e69c1ce2": {
          "model_module": "@jupyter-widgets/controls",
          "model_name": "SelectionSliderModel",
          "model_module_version": "1.5.0",
          "state": {
            "_dom_classes": [],
            "_model_module": "@jupyter-widgets/controls",
            "_model_module_version": "1.5.0",
            "_model_name": "SelectionSliderModel",
            "_options_labels": [
              "1",
              "3",
              "6",
              "12",
              "24"
            ],
            "_view_count": null,
            "_view_module": "@jupyter-widgets/controls",
            "_view_module_version": "1.5.0",
            "_view_name": "SelectionSliderView",
            "continuous_update": true,
            "description": "duration",
            "description_tooltip": null,
            "disabled": false,
            "index": 0,
            "layout": "IPY_MODEL_0debcdcc0ce7467ba6997fe161287949",
            "orientation": "horizontal",
            "readout": true,
            "style": "IPY_MODEL_47b22ca5c91d414c845a7ed1b40e32ca"
          }
        },
        "6382da12457a4d7d86c637c5eb000d4a": {
          "model_module": "@jupyter-widgets/output",
          "model_name": "OutputModel",
          "model_module_version": "1.0.0",
          "state": {
            "_dom_classes": [],
            "_model_module": "@jupyter-widgets/output",
            "_model_module_version": "1.0.0",
            "_model_name": "OutputModel",
            "_view_count": null,
            "_view_module": "@jupyter-widgets/output",
            "_view_module_version": "1.0.0",
            "_view_name": "OutputView",
            "layout": "IPY_MODEL_2c0b3181c2e340e6903ff4537ec683ed",
            "msg_id": "",
            "outputs": [
              {
                "output_type": "stream",
                "name": "stdout",
                "text": [
                  "{1: {'MAE': 6.39, 'RMSE': 6.39}}\n"
                ]
              },
              {
                "output_type": "display_data",
                "data": {
                  "text/plain": "<Figure size 1000x500 with 1 Axes>",
                  "image/png": "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\n"
                },
                "metadata": {}
              }
            ]
          }
        },
        "6b8ab9b425ac472ea1bd1be73789dfbc": {
          "model_module": "@jupyter-widgets/base",
          "model_name": "LayoutModel",
          "model_module_version": "1.2.0",
          "state": {
            "_model_module": "@jupyter-widgets/base",
            "_model_module_version": "1.2.0",
            "_model_name": "LayoutModel",
            "_view_count": null,
            "_view_module": "@jupyter-widgets/base",
            "_view_module_version": "1.2.0",
            "_view_name": "LayoutView",
            "align_content": null,
            "align_items": null,
            "align_self": null,
            "border": null,
            "bottom": null,
            "display": null,
            "flex": null,
            "flex_flow": null,
            "grid_area": null,
            "grid_auto_columns": null,
            "grid_auto_flow": null,
            "grid_auto_rows": null,
            "grid_column": null,
            "grid_gap": null,
            "grid_row": null,
            "grid_template_areas": null,
            "grid_template_columns": null,
            "grid_template_rows": null,
            "height": null,
            "justify_content": null,
            "justify_items": null,
            "left": null,
            "margin": null,
            "max_height": null,
            "max_width": null,
            "min_height": null,
            "min_width": null,
            "object_fit": null,
            "object_position": null,
            "order": null,
            "overflow": null,
            "overflow_x": null,
            "overflow_y": null,
            "padding": null,
            "right": null,
            "top": null,
            "visibility": null,
            "width": null
          }
        },
        "a9afc9392735498e915533b4fe3c111b": {
          "model_module": "@jupyter-widgets/base",
          "model_name": "LayoutModel",
          "model_module_version": "1.2.0",
          "state": {
            "_model_module": "@jupyter-widgets/base",
            "_model_module_version": "1.2.0",
            "_model_name": "LayoutModel",
            "_view_count": null,
            "_view_module": "@jupyter-widgets/base",
            "_view_module_version": "1.2.0",
            "_view_name": "LayoutView",
            "align_content": null,
            "align_items": null,
            "align_self": null,
            "border": null,
            "bottom": null,
            "display": null,
            "flex": null,
            "flex_flow": null,
            "grid_area": null,
            "grid_auto_columns": null,
            "grid_auto_flow": null,
            "grid_auto_rows": null,
            "grid_column": null,
            "grid_gap": null,
            "grid_row": null,
            "grid_template_areas": null,
            "grid_template_columns": null,
            "grid_template_rows": null,
            "height": null,
            "justify_content": null,
            "justify_items": null,
            "left": null,
            "margin": null,
            "max_height": null,
            "max_width": null,
            "min_height": null,
            "min_width": null,
            "object_fit": null,
            "object_position": null,
            "order": null,
            "overflow": null,
            "overflow_x": null,
            "overflow_y": null,
            "padding": null,
            "right": null,
            "top": null,
            "visibility": null,
            "width": null
          }
        },
        "7c42ed490ca6437cb9b395a549b8ece1": {
          "model_module": "@jupyter-widgets/controls",
          "model_name": "DescriptionStyleModel",
          "model_module_version": "1.5.0",
          "state": {
            "_model_module": "@jupyter-widgets/controls",
            "_model_module_version": "1.5.0",
            "_model_name": "DescriptionStyleModel",
            "_view_count": null,
            "_view_module": "@jupyter-widgets/base",
            "_view_module_version": "1.2.0",
            "_view_name": "StyleView",
            "description_width": ""
          }
        },
        "0debcdcc0ce7467ba6997fe161287949": {
          "model_module": "@jupyter-widgets/base",
          "model_name": "LayoutModel",
          "model_module_version": "1.2.0",
          "state": {
            "_model_module": "@jupyter-widgets/base",
            "_model_module_version": "1.2.0",
            "_model_name": "LayoutModel",
            "_view_count": null,
            "_view_module": "@jupyter-widgets/base",
            "_view_module_version": "1.2.0",
            "_view_name": "LayoutView",
            "align_content": null,
            "align_items": null,
            "align_self": null,
            "border": null,
            "bottom": null,
            "display": null,
            "flex": null,
            "flex_flow": null,
            "grid_area": null,
            "grid_auto_columns": null,
            "grid_auto_flow": null,
            "grid_auto_rows": null,
            "grid_column": null,
            "grid_gap": null,
            "grid_row": null,
            "grid_template_areas": null,
            "grid_template_columns": null,
            "grid_template_rows": null,
            "height": null,
            "justify_content": null,
            "justify_items": null,
            "left": null,
            "margin": null,
            "max_height": null,
            "max_width": null,
            "min_height": null,
            "min_width": null,
            "object_fit": null,
            "object_position": null,
            "order": null,
            "overflow": null,
            "overflow_x": null,
            "overflow_y": null,
            "padding": null,
            "right": null,
            "top": null,
            "visibility": null,
            "width": null
          }
        },
        "47b22ca5c91d414c845a7ed1b40e32ca": {
          "model_module": "@jupyter-widgets/controls",
          "model_name": "DescriptionStyleModel",
          "model_module_version": "1.5.0",
          "state": {
            "_model_module": "@jupyter-widgets/controls",
            "_model_module_version": "1.5.0",
            "_model_name": "DescriptionStyleModel",
            "_view_count": null,
            "_view_module": "@jupyter-widgets/base",
            "_view_module_version": "1.2.0",
            "_view_name": "StyleView",
            "description_width": ""
          }
        },
        "2c0b3181c2e340e6903ff4537ec683ed": {
          "model_module": "@jupyter-widgets/base",
          "model_name": "LayoutModel",
          "model_module_version": "1.2.0",
          "state": {
            "_model_module": "@jupyter-widgets/base",
            "_model_module_version": "1.2.0",
            "_model_name": "LayoutModel",
            "_view_count": null,
            "_view_module": "@jupyter-widgets/base",
            "_view_module_version": "1.2.0",
            "_view_name": "LayoutView",
            "align_content": null,
            "align_items": null,
            "align_self": null,
            "border": null,
            "bottom": null,
            "display": null,
            "flex": null,
            "flex_flow": null,
            "grid_area": null,
            "grid_auto_columns": null,
            "grid_auto_flow": null,
            "grid_auto_rows": null,
            "grid_column": null,
            "grid_gap": null,
            "grid_row": null,
            "grid_template_areas": null,
            "grid_template_columns": null,
            "grid_template_rows": null,
            "height": null,
            "justify_content": null,
            "justify_items": null,
            "left": null,
            "margin": null,
            "max_height": null,
            "max_width": null,
            "min_height": null,
            "min_width": null,
            "object_fit": null,
            "object_position": null,
            "order": null,
            "overflow": null,
            "overflow_x": null,
            "overflow_y": null,
            "padding": null,
            "right": null,
            "top": null,
            "visibility": null,
            "width": null
          }
        }
      }
    }
  },
  "cells": [
    {
      "cell_type": "markdown",
      "metadata": {
        "id": "view-in-github",
        "colab_type": "text"
      },
      "source": [
        "<a href=\"https://colab.research.google.com/github/dlwub/Final_Project_AIMS/blob/main/Final_Project_SVR.ipynb\" target=\"_parent\"><img src=\"https://colab.research.google.com/assets/colab-badge.svg\" alt=\"Open In Colab\"/></a>"
      ]
    },
    {
      "cell_type": "code",
      "source": [
        "import ipywidgets\n",
        "import pandas as pd\n",
        "import numpy as np\n",
        "import seaborn as sn\n",
        "import matplotlib.pyplot as plt\n",
        "from scipy import stats"
      ],
      "metadata": {
        "id": "7WoCVfCAw95i"
      },
      "execution_count": null,
      "outputs": []
    },
    {
      "cell_type": "code",
      "source": [
        "# Import necessary libraries\n",
        "from sklearn.svm import SVR\n",
        "from sklearn.metrics import mean_squared_error\n",
        "from datetime import datetime, timedelta\n",
        "from sklearn.preprocessing import MinMaxScaler\n",
        "from sklearn.metrics import mean_absolute_error, mean_squared_error\n",
        "from sklearn.model_selection import GridSearchCV\n",
        "from sklearn.inspection import permutation_importance"
      ],
      "metadata": {
        "id": "Yojno0vSzldB"
      },
      "execution_count": null,
      "outputs": []
    },
    {
      "cell_type": "markdown",
      "source": [
        "## Support Vector Regression (SVR)\n",
        "\n"
      ],
      "metadata": {
        "id": "O2EgBcsYL07f"
      }
    },
    {
      "cell_type": "code",
      "source": [
        "mergedData = pd.read_csv(\"/content/mergedData.csv\")"
      ],
      "metadata": {
        "id": "5W2L9Elw2oAr"
      },
      "execution_count": null,
      "outputs": []
    },
    {
      "cell_type": "markdown",
      "source": [
        "### RMSE on train and test sets"
      ],
      "metadata": {
        "id": "iSumC340Sn3C"
      }
    },
    {
      "cell_type": "code",
      "source": [
        "def get_train_test_set(duration):\n",
        "  dataset = mergedData.drop(mergedData.columns[0], axis=1)\n",
        "  values = dataset.values\n",
        "  X, y = values[:, :-1], values[:, -1:]\n",
        "  scaler_x = MinMaxScaler()\n",
        "  scaled_x = scaler_x.fit_transform(X)\n",
        "  train_size = mergedData.shape[0] - duration\n",
        "  X_train = scaled_x[:train_size, :]\n",
        "  X_test = scaled_x[train_size:, :]\n",
        "  y_train = y[:train_size, :]\n",
        "  y_test = y[train_size:, :]\n",
        "  return X_train, y_train, X_test, y_test, scaler_x"
      ],
      "metadata": {
        "id": "f6J41EAHz03o"
      },
      "execution_count": null,
      "outputs": []
    },
    {
      "cell_type": "code",
      "source": [
        "def get_mae_rmse(model, duration):\n",
        "  X_train, y_train, X_test, y_test, scaler_x = get_train_test_set(duration)\n",
        "  model.fit(X_train, y_train.ravel())\n",
        "  X_pred = model.predict(X_train)\n",
        "  X_pred = X_pred.reshape(-1, 1)\n",
        "  y_pred = model.predict(X_test)\n",
        "\n",
        "  y_pred = y_pred.reshape(-1, 1)\n",
        "  y_test = y_test.reshape(-1, 1)\n",
        "\n",
        "  mae_train = mean_absolute_error(y_train, X_pred)\n",
        "  mae_test = mean_absolute_error(y_test, y_pred)\n",
        "  rmse_train = np.sqrt(mean_squared_error(y_train, X_pred))\n",
        "  rmse_test = np.sqrt(mean_squared_error(y_test, y_pred))\n",
        "\n",
        "  return mae_train, mae_test, rmse_train, rmse_test"
      ],
      "metadata": {
        "id": "GTVqw_D1eeF5"
      },
      "execution_count": null,
      "outputs": []
    },
    {
      "cell_type": "code",
      "source": [
        "def get_best_params(kernel, X_train, y_train):\n",
        "  param_grid = {\n",
        "    'gamma': [0.001, 0.01, 0.1, 1],\n",
        "    'C': [0.1, 1, 10, 100],\n",
        "    'epsilon': [0.01, 0.1, 0.2, 0.5]\n",
        "  }\n",
        "\n",
        "  svr = SVR(kernel=kernel)\n",
        "\n",
        "  # Perform grid search with cross-validation\n",
        "  grid_search = GridSearchCV(estimator=svr, param_grid=param_grid, cv=5, scoring='neg_mean_squared_error', n_jobs=-1)\n",
        "  grid_search.fit(X_train, y_train.ravel())\n",
        "  return grid_search.best_params_"
      ],
      "metadata": {
        "id": "9YIN1Eds1ihH"
      },
      "execution_count": null,
      "outputs": []
    },
    {
      "cell_type": "markdown",
      "source": [
        "### Feature Importance"
      ],
      "metadata": {
        "id": "417XoO3hjPcU"
      }
    },
    {
      "cell_type": "code",
      "source": [
        "def plot_importance_graph(model, kernel):\n",
        "  results = permutation_importance(model, X_train, y_train, scoring='neg_mean_squared_error')\n",
        "  importance = results.importances_mean\n",
        "  importance_sum = np.sum(np.abs(importance))\n",
        "  importance_ = importance/importance_sum\n",
        "  indices = np.argsort(importance_)\n",
        "  plt.barh(range(X_train.shape[1]), importance_[indices])\n",
        "  plt.xticks(fontsize=12)\n",
        "  plt.yticks(range(X_train.shape[1]), mergedData.columns[1:-1][indices], fontsize=12)\n",
        "  plt.xlabel('Feature Importance', fontsize=14)\n",
        "  plt.ylabel('Features', fontsize=14)\n",
        "  plt.show()"
      ],
      "metadata": {
        "id": "1UbJPmmXPBmP"
      },
      "execution_count": null,
      "outputs": []
    },
    {
      "cell_type": "markdown",
      "source": [
        "### Plotting the curves"
      ],
      "metadata": {
        "id": "UMjUkM4pU29q"
      }
    },
    {
      "cell_type": "code",
      "source": [
        "def get_predicted_values(model, duration):\n",
        "  X_train, y_train, X_test, y_test = get_train_test_set(duration)[0:4]\n",
        "  model.fit(X_train, y_train.ravel())\n",
        "  y_pred = model.predict(X_test).reshape(-1, 1)\n",
        "  y_test = y_test.reshape(-1, 1)\n",
        "  return y_pred, y_test"
      ],
      "metadata": {
        "id": "C6FBBYPFGT5A"
      },
      "execution_count": null,
      "outputs": []
    },
    {
      "cell_type": "code",
      "source": [
        "# Plot predicted vs real values with dates on the x-axis\n",
        "def plot_SVR(kernel, duration):\n",
        "  split_index = mergedData.shape[0] - duration\n",
        "  test_date = mergedData.iloc[split_index:, 0]\n",
        "  model = model1 if kernel == 'rbf' else model2\n",
        "  y_pred, y_test = get_predicted_values(model, duration)\n",
        "  plt.figure(figsize=(10, 5))\n",
        "  plt.plot(test_date, y_test, label='Real Values', marker='o')\n",
        "  plt.plot(test_date, y_pred, label='Predicted Values', marker='x')\n",
        "  plt.xlabel('Dates', fontsize=14)\n",
        "  plt.ylabel('CPI', fontsize=14)\n",
        "  #plt.title('Predicted vs Real Values (SVR %s kernel - %s prediction)' %(kernel, \"test\" if duration > 24 else \"%d months\" %duration))\n",
        "  plt.xticks(rotation=45)\n",
        "  plt.xticks(range(0, len(test_date), 6), test_date[::6], fontsize=12)\n",
        "  plt.yticks(fontsize=12)\n",
        "  results = {}\n",
        "  mae = float(format(mean_absolute_error(y_test, y_pred.ravel()),'.2f'))\n",
        "  rmse = float(format(np.sqrt(mean_squared_error(y_test, y_pred.ravel())),'.2f'))\n",
        "  results[duration] = {'MAE': mae, 'RMSE': rmse}\n",
        "  print(results)\n",
        "  plt.legend()\n",
        "  plt.grid(True)\n",
        "  plt.tight_layout()\n",
        "  plt.show()"
      ],
      "metadata": {
        "id": "6tEo2wNYO1s4"
      },
      "execution_count": null,
      "outputs": []
    },
    {
      "cell_type": "markdown",
      "source": [
        "### Train test sets"
      ],
      "metadata": {
        "id": "OIcZAzAjlHs-"
      }
    },
    {
      "cell_type": "code",
      "source": [
        "X_train, y_train, X_test, y_test, scaler_x = get_train_test_set(int(mergedData.shape[0]*0.2))"
      ],
      "metadata": {
        "id": "Byak9Zl-2DUZ"
      },
      "execution_count": null,
      "outputs": []
    },
    {
      "cell_type": "markdown",
      "source": [
        "### Models"
      ],
      "metadata": {
        "id": "XIsHX1mZlTtY"
      }
    },
    {
      "cell_type": "code",
      "source": [
        "best_params_rbf = get_best_params('rbf', X_train, y_train)\n",
        "model1 = SVR(kernel='rbf', gamma=best_params_rbf['gamma'], C=best_params_rbf['C'], epsilon = best_params_rbf['epsilon'])"
      ],
      "metadata": {
        "id": "y47Ygm-N3de4"
      },
      "execution_count": null,
      "outputs": []
    },
    {
      "cell_type": "code",
      "source": [
        "best_params_rbf"
      ],
      "metadata": {
        "colab": {
          "base_uri": "https://localhost:8080/"
        },
        "id": "l1XCUYRRGCl3",
        "outputId": "26267582-f024-4a5e-93e7-952acf937abe"
      },
      "execution_count": null,
      "outputs": [
        {
          "output_type": "execute_result",
          "data": {
            "text/plain": [
              "{'C': 100, 'epsilon': 0.01, 'gamma': 0.01}"
            ]
          },
          "metadata": {},
          "execution_count": 13
        }
      ]
    },
    {
      "cell_type": "code",
      "source": [
        "best_params_linear = get_best_params('linear', X_train, y_train)\n",
        "model2 = SVR(kernel='linear', gamma=best_params_linear['gamma'], C=best_params_linear['C'], epsilon = best_params_linear['epsilon'])"
      ],
      "metadata": {
        "id": "6b8IOIcEDwaK"
      },
      "execution_count": null,
      "outputs": []
    },
    {
      "cell_type": "code",
      "source": [
        "best_params_linear"
      ],
      "metadata": {
        "colab": {
          "base_uri": "https://localhost:8080/"
        },
        "id": "RSBqYugKGH2J",
        "outputId": "009b53d2-bf2b-46a4-df6b-067bdc1b061a"
      },
      "execution_count": null,
      "outputs": [
        {
          "output_type": "execute_result",
          "data": {
            "text/plain": [
              "{'C': 100, 'epsilon': 0.1, 'gamma': 0.001}"
            ]
          },
          "metadata": {},
          "execution_count": 15
        }
      ]
    },
    {
      "cell_type": "markdown",
      "source": [
        "## RBF kernel"
      ],
      "metadata": {
        "id": "KImewZg1-lr7"
      }
    },
    {
      "cell_type": "code",
      "source": [
        "y_pred, y_test = get_predicted_values(model1, int(mergedData.shape[0]*0.2))"
      ],
      "metadata": {
        "id": "RbnxlZkTFhyb"
      },
      "execution_count": null,
      "outputs": []
    },
    {
      "cell_type": "code",
      "source": [
        "df = pd.DataFrame({'Predicted value': y_pred.flatten(), 'Real Value': y_test.flatten()})\n",
        "df"
      ],
      "metadata": {
        "colab": {
          "base_uri": "https://localhost:8080/",
          "height": 424
        },
        "id": "06Pz5EYg2g7F",
        "outputId": "844ef289-3a7d-484f-f983-0fe6e8082f22"
      },
      "execution_count": null,
      "outputs": [
        {
          "output_type": "execute_result",
          "data": {
            "text/plain": [
              "    Predicted value  Real Value\n",
              "0        106.515052  108.968156\n",
              "1        104.701704  109.643299\n",
              "2        104.680964  110.858557\n",
              "3        105.695818  111.398672\n",
              "4        106.061521  111.533701\n",
              "..              ...         ...\n",
              "66       129.662008  140.834927\n",
              "67       130.466542  143.130415\n",
              "68       131.142533  143.535501\n",
              "69       132.601901  143.670530\n",
              "70       132.896990  144.075616\n",
              "\n",
              "[71 rows x 2 columns]"
            ],
            "text/html": [
              "\n",
              "  <div id=\"df-34b32738-bca7-4296-b878-fd501507c704\" class=\"colab-df-container\">\n",
              "    <div>\n",
              "<style scoped>\n",
              "    .dataframe tbody tr th:only-of-type {\n",
              "        vertical-align: middle;\n",
              "    }\n",
              "\n",
              "    .dataframe tbody tr th {\n",
              "        vertical-align: top;\n",
              "    }\n",
              "\n",
              "    .dataframe thead th {\n",
              "        text-align: right;\n",
              "    }\n",
              "</style>\n",
              "<table border=\"1\" class=\"dataframe\">\n",
              "  <thead>\n",
              "    <tr style=\"text-align: right;\">\n",
              "      <th></th>\n",
              "      <th>Predicted value</th>\n",
              "      <th>Real Value</th>\n",
              "    </tr>\n",
              "  </thead>\n",
              "  <tbody>\n",
              "    <tr>\n",
              "      <th>0</th>\n",
              "      <td>106.515052</td>\n",
              "      <td>108.968156</td>\n",
              "    </tr>\n",
              "    <tr>\n",
              "      <th>1</th>\n",
              "      <td>104.701704</td>\n",
              "      <td>109.643299</td>\n",
              "    </tr>\n",
              "    <tr>\n",
              "      <th>2</th>\n",
              "      <td>104.680964</td>\n",
              "      <td>110.858557</td>\n",
              "    </tr>\n",
              "    <tr>\n",
              "      <th>3</th>\n",
              "      <td>105.695818</td>\n",
              "      <td>111.398672</td>\n",
              "    </tr>\n",
              "    <tr>\n",
              "      <th>4</th>\n",
              "      <td>106.061521</td>\n",
              "      <td>111.533701</td>\n",
              "    </tr>\n",
              "    <tr>\n",
              "      <th>...</th>\n",
              "      <td>...</td>\n",
              "      <td>...</td>\n",
              "    </tr>\n",
              "    <tr>\n",
              "      <th>66</th>\n",
              "      <td>129.662008</td>\n",
              "      <td>140.834927</td>\n",
              "    </tr>\n",
              "    <tr>\n",
              "      <th>67</th>\n",
              "      <td>130.466542</td>\n",
              "      <td>143.130415</td>\n",
              "    </tr>\n",
              "    <tr>\n",
              "      <th>68</th>\n",
              "      <td>131.142533</td>\n",
              "      <td>143.535501</td>\n",
              "    </tr>\n",
              "    <tr>\n",
              "      <th>69</th>\n",
              "      <td>132.601901</td>\n",
              "      <td>143.670530</td>\n",
              "    </tr>\n",
              "    <tr>\n",
              "      <th>70</th>\n",
              "      <td>132.896990</td>\n",
              "      <td>144.075616</td>\n",
              "    </tr>\n",
              "  </tbody>\n",
              "</table>\n",
              "<p>71 rows × 2 columns</p>\n",
              "</div>\n",
              "    <div class=\"colab-df-buttons\">\n",
              "\n",
              "  <div class=\"colab-df-container\">\n",
              "    <button class=\"colab-df-convert\" onclick=\"convertToInteractive('df-34b32738-bca7-4296-b878-fd501507c704')\"\n",
              "            title=\"Convert this dataframe to an interactive table.\"\n",
              "            style=\"display:none;\">\n",
              "\n",
              "  <svg xmlns=\"http://www.w3.org/2000/svg\" height=\"24px\" viewBox=\"0 -960 960 960\">\n",
              "    <path d=\"M120-120v-720h720v720H120Zm60-500h600v-160H180v160Zm220 220h160v-160H400v160Zm0 220h160v-160H400v160ZM180-400h160v-160H180v160Zm440 0h160v-160H620v160ZM180-180h160v-160H180v160Zm440 0h160v-160H620v160Z\"/>\n",
              "  </svg>\n",
              "    </button>\n",
              "\n",
              "  <style>\n",
              "    .colab-df-container {\n",
              "      display:flex;\n",
              "      gap: 12px;\n",
              "    }\n",
              "\n",
              "    .colab-df-convert {\n",
              "      background-color: #E8F0FE;\n",
              "      border: none;\n",
              "      border-radius: 50%;\n",
              "      cursor: pointer;\n",
              "      display: none;\n",
              "      fill: #1967D2;\n",
              "      height: 32px;\n",
              "      padding: 0 0 0 0;\n",
              "      width: 32px;\n",
              "    }\n",
              "\n",
              "    .colab-df-convert:hover {\n",
              "      background-color: #E2EBFA;\n",
              "      box-shadow: 0px 1px 2px rgba(60, 64, 67, 0.3), 0px 1px 3px 1px rgba(60, 64, 67, 0.15);\n",
              "      fill: #174EA6;\n",
              "    }\n",
              "\n",
              "    .colab-df-buttons div {\n",
              "      margin-bottom: 4px;\n",
              "    }\n",
              "\n",
              "    [theme=dark] .colab-df-convert {\n",
              "      background-color: #3B4455;\n",
              "      fill: #D2E3FC;\n",
              "    }\n",
              "\n",
              "    [theme=dark] .colab-df-convert:hover {\n",
              "      background-color: #434B5C;\n",
              "      box-shadow: 0px 1px 3px 1px rgba(0, 0, 0, 0.15);\n",
              "      filter: drop-shadow(0px 1px 2px rgba(0, 0, 0, 0.3));\n",
              "      fill: #FFFFFF;\n",
              "    }\n",
              "  </style>\n",
              "\n",
              "    <script>\n",
              "      const buttonEl =\n",
              "        document.querySelector('#df-34b32738-bca7-4296-b878-fd501507c704 button.colab-df-convert');\n",
              "      buttonEl.style.display =\n",
              "        google.colab.kernel.accessAllowed ? 'block' : 'none';\n",
              "\n",
              "      async function convertToInteractive(key) {\n",
              "        const element = document.querySelector('#df-34b32738-bca7-4296-b878-fd501507c704');\n",
              "        const dataTable =\n",
              "          await google.colab.kernel.invokeFunction('convertToInteractive',\n",
              "                                                    [key], {});\n",
              "        if (!dataTable) return;\n",
              "\n",
              "        const docLinkHtml = 'Like what you see? Visit the ' +\n",
              "          '<a target=\"_blank\" href=https://colab.research.google.com/notebooks/data_table.ipynb>data table notebook</a>'\n",
              "          + ' to learn more about interactive tables.';\n",
              "        element.innerHTML = '';\n",
              "        dataTable['output_type'] = 'display_data';\n",
              "        await google.colab.output.renderOutput(dataTable, element);\n",
              "        const docLink = document.createElement('div');\n",
              "        docLink.innerHTML = docLinkHtml;\n",
              "        element.appendChild(docLink);\n",
              "      }\n",
              "    </script>\n",
              "  </div>\n",
              "\n",
              "\n",
              "<div id=\"df-e360b974-a0f3-47bb-b335-3bfe0047b307\">\n",
              "  <button class=\"colab-df-quickchart\" onclick=\"quickchart('df-e360b974-a0f3-47bb-b335-3bfe0047b307')\"\n",
              "            title=\"Suggest charts\"\n",
              "            style=\"display:none;\">\n",
              "\n",
              "<svg xmlns=\"http://www.w3.org/2000/svg\" height=\"24px\"viewBox=\"0 0 24 24\"\n",
              "     width=\"24px\">\n",
              "    <g>\n",
              "        <path d=\"M19 3H5c-1.1 0-2 .9-2 2v14c0 1.1.9 2 2 2h14c1.1 0 2-.9 2-2V5c0-1.1-.9-2-2-2zM9 17H7v-7h2v7zm4 0h-2V7h2v10zm4 0h-2v-4h2v4z\"/>\n",
              "    </g>\n",
              "</svg>\n",
              "  </button>\n",
              "\n",
              "<style>\n",
              "  .colab-df-quickchart {\n",
              "      --bg-color: #E8F0FE;\n",
              "      --fill-color: #1967D2;\n",
              "      --hover-bg-color: #E2EBFA;\n",
              "      --hover-fill-color: #174EA6;\n",
              "      --disabled-fill-color: #AAA;\n",
              "      --disabled-bg-color: #DDD;\n",
              "  }\n",
              "\n",
              "  [theme=dark] .colab-df-quickchart {\n",
              "      --bg-color: #3B4455;\n",
              "      --fill-color: #D2E3FC;\n",
              "      --hover-bg-color: #434B5C;\n",
              "      --hover-fill-color: #FFFFFF;\n",
              "      --disabled-bg-color: #3B4455;\n",
              "      --disabled-fill-color: #666;\n",
              "  }\n",
              "\n",
              "  .colab-df-quickchart {\n",
              "    background-color: var(--bg-color);\n",
              "    border: none;\n",
              "    border-radius: 50%;\n",
              "    cursor: pointer;\n",
              "    display: none;\n",
              "    fill: var(--fill-color);\n",
              "    height: 32px;\n",
              "    padding: 0;\n",
              "    width: 32px;\n",
              "  }\n",
              "\n",
              "  .colab-df-quickchart:hover {\n",
              "    background-color: var(--hover-bg-color);\n",
              "    box-shadow: 0 1px 2px rgba(60, 64, 67, 0.3), 0 1px 3px 1px rgba(60, 64, 67, 0.15);\n",
              "    fill: var(--button-hover-fill-color);\n",
              "  }\n",
              "\n",
              "  .colab-df-quickchart-complete:disabled,\n",
              "  .colab-df-quickchart-complete:disabled:hover {\n",
              "    background-color: var(--disabled-bg-color);\n",
              "    fill: var(--disabled-fill-color);\n",
              "    box-shadow: none;\n",
              "  }\n",
              "\n",
              "  .colab-df-spinner {\n",
              "    border: 2px solid var(--fill-color);\n",
              "    border-color: transparent;\n",
              "    border-bottom-color: var(--fill-color);\n",
              "    animation:\n",
              "      spin 1s steps(1) infinite;\n",
              "  }\n",
              "\n",
              "  @keyframes spin {\n",
              "    0% {\n",
              "      border-color: transparent;\n",
              "      border-bottom-color: var(--fill-color);\n",
              "      border-left-color: var(--fill-color);\n",
              "    }\n",
              "    20% {\n",
              "      border-color: transparent;\n",
              "      border-left-color: var(--fill-color);\n",
              "      border-top-color: var(--fill-color);\n",
              "    }\n",
              "    30% {\n",
              "      border-color: transparent;\n",
              "      border-left-color: var(--fill-color);\n",
              "      border-top-color: var(--fill-color);\n",
              "      border-right-color: var(--fill-color);\n",
              "    }\n",
              "    40% {\n",
              "      border-color: transparent;\n",
              "      border-right-color: var(--fill-color);\n",
              "      border-top-color: var(--fill-color);\n",
              "    }\n",
              "    60% {\n",
              "      border-color: transparent;\n",
              "      border-right-color: var(--fill-color);\n",
              "    }\n",
              "    80% {\n",
              "      border-color: transparent;\n",
              "      border-right-color: var(--fill-color);\n",
              "      border-bottom-color: var(--fill-color);\n",
              "    }\n",
              "    90% {\n",
              "      border-color: transparent;\n",
              "      border-bottom-color: var(--fill-color);\n",
              "    }\n",
              "  }\n",
              "</style>\n",
              "\n",
              "  <script>\n",
              "    async function quickchart(key) {\n",
              "      const quickchartButtonEl =\n",
              "        document.querySelector('#' + key + ' button');\n",
              "      quickchartButtonEl.disabled = true;  // To prevent multiple clicks.\n",
              "      quickchartButtonEl.classList.add('colab-df-spinner');\n",
              "      try {\n",
              "        const charts = await google.colab.kernel.invokeFunction(\n",
              "            'suggestCharts', [key], {});\n",
              "      } catch (error) {\n",
              "        console.error('Error during call to suggestCharts:', error);\n",
              "      }\n",
              "      quickchartButtonEl.classList.remove('colab-df-spinner');\n",
              "      quickchartButtonEl.classList.add('colab-df-quickchart-complete');\n",
              "    }\n",
              "    (() => {\n",
              "      let quickchartButtonEl =\n",
              "        document.querySelector('#df-e360b974-a0f3-47bb-b335-3bfe0047b307 button');\n",
              "      quickchartButtonEl.style.display =\n",
              "        google.colab.kernel.accessAllowed ? 'block' : 'none';\n",
              "    })();\n",
              "  </script>\n",
              "</div>\n",
              "\n",
              "  <div id=\"id_da7aa901-a0b7-4ef4-9e87-61f641ac1eca\">\n",
              "    <style>\n",
              "      .colab-df-generate {\n",
              "        background-color: #E8F0FE;\n",
              "        border: none;\n",
              "        border-radius: 50%;\n",
              "        cursor: pointer;\n",
              "        display: none;\n",
              "        fill: #1967D2;\n",
              "        height: 32px;\n",
              "        padding: 0 0 0 0;\n",
              "        width: 32px;\n",
              "      }\n",
              "\n",
              "      .colab-df-generate:hover {\n",
              "        background-color: #E2EBFA;\n",
              "        box-shadow: 0px 1px 2px rgba(60, 64, 67, 0.3), 0px 1px 3px 1px rgba(60, 64, 67, 0.15);\n",
              "        fill: #174EA6;\n",
              "      }\n",
              "\n",
              "      [theme=dark] .colab-df-generate {\n",
              "        background-color: #3B4455;\n",
              "        fill: #D2E3FC;\n",
              "      }\n",
              "\n",
              "      [theme=dark] .colab-df-generate:hover {\n",
              "        background-color: #434B5C;\n",
              "        box-shadow: 0px 1px 3px 1px rgba(0, 0, 0, 0.15);\n",
              "        filter: drop-shadow(0px 1px 2px rgba(0, 0, 0, 0.3));\n",
              "        fill: #FFFFFF;\n",
              "      }\n",
              "    </style>\n",
              "    <button class=\"colab-df-generate\" onclick=\"generateWithVariable('df')\"\n",
              "            title=\"Generate code using this dataframe.\"\n",
              "            style=\"display:none;\">\n",
              "\n",
              "  <svg xmlns=\"http://www.w3.org/2000/svg\" height=\"24px\"viewBox=\"0 0 24 24\"\n",
              "       width=\"24px\">\n",
              "    <path d=\"M7,19H8.4L18.45,9,17,7.55,7,17.6ZM5,21V16.75L18.45,3.32a2,2,0,0,1,2.83,0l1.4,1.43a1.91,1.91,0,0,1,.58,1.4,1.91,1.91,0,0,1-.58,1.4L9.25,21ZM18.45,9,17,7.55Zm-12,3A5.31,5.31,0,0,0,4.9,8.1,5.31,5.31,0,0,0,1,6.5,5.31,5.31,0,0,0,4.9,4.9,5.31,5.31,0,0,0,6.5,1,5.31,5.31,0,0,0,8.1,4.9,5.31,5.31,0,0,0,12,6.5,5.46,5.46,0,0,0,6.5,12Z\"/>\n",
              "  </svg>\n",
              "    </button>\n",
              "    <script>\n",
              "      (() => {\n",
              "      const buttonEl =\n",
              "        document.querySelector('#id_da7aa901-a0b7-4ef4-9e87-61f641ac1eca button.colab-df-generate');\n",
              "      buttonEl.style.display =\n",
              "        google.colab.kernel.accessAllowed ? 'block' : 'none';\n",
              "\n",
              "      buttonEl.onclick = () => {\n",
              "        google.colab.notebook.generateWithVariable('df');\n",
              "      }\n",
              "      })();\n",
              "    </script>\n",
              "  </div>\n",
              "\n",
              "    </div>\n",
              "  </div>\n"
            ],
            "application/vnd.google.colaboratory.intrinsic+json": {
              "type": "dataframe",
              "variable_name": "df",
              "summary": "{\n  \"name\": \"df\",\n  \"rows\": 71,\n  \"fields\": [\n    {\n      \"column\": \"Predicted value\",\n      \"properties\": {\n        \"dtype\": \"number\",\n        \"std\": 8.329584194526978,\n        \"min\": 104.68096437012713,\n        \"max\": 132.89699037928443,\n        \"num_unique_values\": 71,\n        \"samples\": [\n          112.32434350290764,\n          106.51505229378594,\n          125.36148605843647\n        ],\n        \"semantic_type\": \"\",\n        \"description\": \"\"\n      }\n    },\n    {\n      \"column\": \"Real Value\",\n      \"properties\": {\n        \"dtype\": \"number\",\n        \"std\": 9.37804292986279,\n        \"min\": 108.9681557,\n        \"max\": 144.0756161,\n        \"num_unique_values\": 67,\n        \"samples\": [\n          125.7117137,\n          116.6647913,\n          111.5337009\n        ],\n        \"semantic_type\": \"\",\n        \"description\": \"\"\n      }\n    }\n  ]\n}"
            }
          },
          "metadata": {},
          "execution_count": 17
        }
      ]
    },
    {
      "cell_type": "code",
      "source": [
        "mae_train, mae_test, rmse_train, rmse_test = get_mae_rmse(model1, int(mergedData.shape[0]*0.2))\n",
        "print(\"Mean Absolute Error on Training Data: {:.2f}\".format(mae_train))\n",
        "print(\"Mean Absolute Error on Testing Data: {:.2f}\".format(mae_test))\n",
        "print(\"Root Mean Squared Error on Training Data: {:.2f}\".format(rmse_train))\n",
        "print(\"Root Mean Squared Error on Testing Data: {:.2f}\".format(rmse_test))"
      ],
      "metadata": {
        "colab": {
          "base_uri": "https://localhost:8080/"
        },
        "id": "x_24wRfP0vdU",
        "outputId": "50bfed8b-274b-4a4e-df4c-de8f1a484a11"
      },
      "execution_count": null,
      "outputs": [
        {
          "output_type": "stream",
          "name": "stdout",
          "text": [
            "Mean Absolute Error on Training Data: 1.59\n",
            "Mean Absolute Error on Testing Data: 7.80\n",
            "Root Mean Squared Error on Training Data: 2.02\n",
            "Root Mean Squared Error on Testing Data: 8.13\n"
          ]
        }
      ]
    },
    {
      "cell_type": "markdown",
      "source": [
        "### Feature Importance in rbf kernel"
      ],
      "metadata": {
        "id": "GmFqFyybNm48"
      }
    },
    {
      "cell_type": "code",
      "source": [
        "plot_importance_graph(model1, 'RBF')"
      ],
      "metadata": {
        "colab": {
          "base_uri": "https://localhost:8080/",
          "height": 458
        },
        "id": "VnGIzLSCYlNG",
        "outputId": "b72cf040-a8a4-4a96-8a12-3451d7dbae51"
      },
      "execution_count": null,
      "outputs": [
        {
          "output_type": "display_data",
          "data": {
            "text/plain": [
              "<Figure size 640x480 with 1 Axes>"
            ],
            "image/png": "[encoded data removed]"
          },
          "metadata": {}
        }
      ]
    },
    {
      "cell_type": "code",
      "source": [
        "plot_SVR('rbf', int(mergedData.shape[0]*0.2))"
      ],
      "metadata": {
        "colab": {
          "base_uri": "https://localhost:8080/",
          "height": 524
        },
        "id": "o65Jz6op1eMt",
        "outputId": "837999f7-970b-45dd-e053-ffe27048a4dd"
      },
      "execution_count": null,
      "outputs": [
        {
          "output_type": "stream",
          "name": "stdout",
          "text": [
            "{71: {'MAE': 7.8, 'RMSE': 8.13}}\n"
          ]
        },
        {
          "output_type": "display_data",
          "data": {
            "text/plain": [
              "<Figure size 1000x500 with 1 Axes>"
            ],
            "image/png": "[encoded data removed]"
          },
          "metadata": {}
        }
      ]
    },
    {
      "cell_type": "markdown",
      "source": [
        "## Linear kernel"
      ],
      "metadata": {
        "id": "sWOmabpu-hG8"
      }
    },
    {
      "cell_type": "code",
      "source": [
        "y_pred, y_test = get_predicted_values(model2, int(mergedData.shape[0]*0.2))"
      ],
      "metadata": {
        "id": "7cb3qzkcxIDv"
      },
      "execution_count": null,
      "outputs": []
    },
    {
      "cell_type": "code",
      "source": [
        "df = pd.DataFrame({'Predicted value': y_pred.flatten(), 'Real Value': y_test.flatten()})\n",
        "df"
      ],
      "metadata": {
        "colab": {
          "base_uri": "https://localhost:8080/",
          "height": 424
        },
        "id": "pZsIlEu-38G8",
        "outputId": "0554b049-d2b5-47ff-d2eb-2522be7e4fc8"
      },
      "execution_count": null,
      "outputs": [
        {
          "output_type": "execute_result",
          "data": {
            "text/plain": [
              "    Predicted value  Real Value\n",
              "0        107.838636  108.968156\n",
              "1        108.244014  109.643299\n",
              "2        108.976744  110.858557\n",
              "3        109.645562  111.398672\n",
              "4        110.319666  111.533701\n",
              "..              ...         ...\n",
              "66       146.698084  140.834927\n",
              "67       149.399575  143.130415\n",
              "68       148.584597  143.535501\n",
              "69       149.827461  143.670530\n",
              "70       149.818951  144.075616\n",
              "\n",
              "[71 rows x 2 columns]"
            ],
            "text/html": [
              "\n",
              "  <div id=\"df-fab03bb3-4044-4e79-9ade-a8c8252618cf\" class=\"colab-df-container\">\n",
              "    <div>\n",
              "<style scoped>\n",
              "    .dataframe tbody tr th:only-of-type {\n",
              "        vertical-align: middle;\n",
              "    }\n",
              "\n",
              "    .dataframe tbody tr th {\n",
              "        vertical-align: top;\n",
              "    }\n",
              "\n",
              "    .dataframe thead th {\n",
              "        text-align: right;\n",
              "    }\n",
              "</style>\n",
              "<table border=\"1\" class=\"dataframe\">\n",
              "  <thead>\n",
              "    <tr style=\"text-align: right;\">\n",
              "      <th></th>\n",
              "      <th>Predicted value</th>\n",
              "      <th>Real Value</th>\n",
              "    </tr>\n",
              "  </thead>\n",
              "  <tbody>\n",
              "    <tr>\n",
              "      <th>0</th>\n",
              "      <td>107.838636</td>\n",
              "      <td>108.968156</td>\n",
              "    </tr>\n",
              "    <tr>\n",
              "      <th>1</th>\n",
              "      <td>108.244014</td>\n",
              "      <td>109.643299</td>\n",
              "    </tr>\n",
              "    <tr>\n",
              "      <th>2</th>\n",
              "      <td>108.976744</td>\n",
              "      <td>110.858557</td>\n",
              "    </tr>\n",
              "    <tr>\n",
              "      <th>3</th>\n",
              "      <td>109.645562</td>\n",
              "      <td>111.398672</td>\n",
              "    </tr>\n",
              "    <tr>\n",
              "      <th>4</th>\n",
              "      <td>110.319666</td>\n",
              "      <td>111.533701</td>\n",
              "    </tr>\n",
              "    <tr>\n",
              "      <th>...</th>\n",
              "      <td>...</td>\n",
              "      <td>...</td>\n",
              "    </tr>\n",
              "    <tr>\n",
              "      <th>66</th>\n",
              "      <td>146.698084</td>\n",
              "      <td>140.834927</td>\n",
              "    </tr>\n",
              "    <tr>\n",
              "      <th>67</th>\n",
              "      <td>149.399575</td>\n",
              "      <td>143.130415</td>\n",
              "    </tr>\n",
              "    <tr>\n",
              "      <th>68</th>\n",
              "      <td>148.584597</td>\n",
              "      <td>143.535501</td>\n",
              "    </tr>\n",
              "    <tr>\n",
              "      <th>69</th>\n",
              "      <td>149.827461</td>\n",
              "      <td>143.670530</td>\n",
              "    </tr>\n",
              "    <tr>\n",
              "      <th>70</th>\n",
              "      <td>149.818951</td>\n",
              "      <td>144.075616</td>\n",
              "    </tr>\n",
              "  </tbody>\n",
              "</table>\n",
              "<p>71 rows × 2 columns</p>\n",
              "</div>\n",
              "    <div class=\"colab-df-buttons\">\n",
              "\n",
              "  <div class=\"colab-df-container\">\n",
              "    <button class=\"colab-df-convert\" onclick=\"convertToInteractive('df-fab03bb3-4044-4e79-9ade-a8c8252618cf')\"\n",
              "            title=\"Convert this dataframe to an interactive table.\"\n",
              "            style=\"display:none;\">\n",
              "\n",
              "  <svg xmlns=\"http://www.w3.org/2000/svg\" height=\"24px\" viewBox=\"0 -960 960 960\">\n",
              "    <path d=\"M120-120v-720h720v720H120Zm60-500h600v-160H180v160Zm220 220h160v-160H400v160Zm0 220h160v-160H400v160ZM180-400h160v-160H180v160Zm440 0h160v-160H620v160ZM180-180h160v-160H180v160Zm440 0h160v-160H620v160Z\"/>\n",
              "  </svg>\n",
              "    </button>\n",
              "\n",
              "  <style>\n",
              "    .colab-df-container {\n",
              "      display:flex;\n",
              "      gap: 12px;\n",
              "    }\n",
              "\n",
              "    .colab-df-convert {\n",
              "      background-color: #E8F0FE;\n",
              "      border: none;\n",
              "      border-radius: 50%;\n",
              "      cursor: pointer;\n",
              "      display: none;\n",
              "      fill: #1967D2;\n",
              "      height: 32px;\n",
              "      padding: 0 0 0 0;\n",
              "      width: 32px;\n",
              "    }\n",
              "\n",
              "    .colab-df-convert:hover {\n",
              "      background-color: #E2EBFA;\n",
              "      box-shadow: 0px 1px 2px rgba(60, 64, 67, 0.3), 0px 1px 3px 1px rgba(60, 64, 67, 0.15);\n",
              "      fill: #174EA6;\n",
              "    }\n",
              "\n",
              "    .colab-df-buttons div {\n",
              "      margin-bottom: 4px;\n",
              "    }\n",
              "\n",
              "    [theme=dark] .colab-df-convert {\n",
              "      background-color: #3B4455;\n",
              "      fill: #D2E3FC;\n",
              "    }\n",
              "\n",
              "    [theme=dark] .colab-df-convert:hover {\n",
              "      background-color: #434B5C;\n",
              "      box-shadow: 0px 1px 3px 1px rgba(0, 0, 0, 0.15);\n",
              "      filter: drop-shadow(0px 1px 2px rgba(0, 0, 0, 0.3));\n",
              "      fill: #FFFFFF;\n",
              "    }\n",
              "  </style>\n",
              "\n",
              "    <script>\n",
              "      const buttonEl =\n",
              "        document.querySelector('#df-fab03bb3-4044-4e79-9ade-a8c8252618cf button.colab-df-convert');\n",
              "      buttonEl.style.display =\n",
              "        google.colab.kernel.accessAllowed ? 'block' : 'none';\n",
              "\n",
              "      async function convertToInteractive(key) {\n",
              "        const element = document.querySelector('#df-fab03bb3-4044-4e79-9ade-a8c8252618cf');\n",
              "        const dataTable =\n",
              "          await google.colab.kernel.invokeFunction('convertToInteractive',\n",
              "                                                    [key], {});\n",
              "        if (!dataTable) return;\n",
              "\n",
              "        const docLinkHtml = 'Like what you see? Visit the ' +\n",
              "          '<a target=\"_blank\" href=https://colab.research.google.com/notebooks/data_table.ipynb>data table notebook</a>'\n",
              "          + ' to learn more about interactive tables.';\n",
              "        element.innerHTML = '';\n",
              "        dataTable['output_type'] = 'display_data';\n",
              "        await google.colab.output.renderOutput(dataTable, element);\n",
              "        const docLink = document.createElement('div');\n",
              "        docLink.innerHTML = docLinkHtml;\n",
              "        element.appendChild(docLink);\n",
              "      }\n",
              "    </script>\n",
              "  </div>\n",
              "\n",
              "\n",
              "<div id=\"df-d8439e60-517e-4cc2-9e92-df1713e41a02\">\n",
              "  <button class=\"colab-df-quickchart\" onclick=\"quickchart('df-d8439e60-517e-4cc2-9e92-df1713e41a02')\"\n",
              "            title=\"Suggest charts\"\n",
              "            style=\"display:none;\">\n",
              "\n",
              "<svg xmlns=\"http://www.w3.org/2000/svg\" height=\"24px\"viewBox=\"0 0 24 24\"\n",
              "     width=\"24px\">\n",
              "    <g>\n",
              "        <path d=\"M19 3H5c-1.1 0-2 .9-2 2v14c0 1.1.9 2 2 2h14c1.1 0 2-.9 2-2V5c0-1.1-.9-2-2-2zM9 17H7v-7h2v7zm4 0h-2V7h2v10zm4 0h-2v-4h2v4z\"/>\n",
              "    </g>\n",
              "</svg>\n",
              "  </button>\n",
              "\n",
              "<style>\n",
              "  .colab-df-quickchart {\n",
              "      --bg-color: #E8F0FE;\n",
              "      --fill-color: #1967D2;\n",
              "      --hover-bg-color: #E2EBFA;\n",
              "      --hover-fill-color: #174EA6;\n",
              "      --disabled-fill-color: #AAA;\n",
              "      --disabled-bg-color: #DDD;\n",
              "  }\n",
              "\n",
              "  [theme=dark] .colab-df-quickchart {\n",
              "      --bg-color: #3B4455;\n",
              "      --fill-color: #D2E3FC;\n",
              "      --hover-bg-color: #434B5C;\n",
              "      --hover-fill-color: #FFFFFF;\n",
              "      --disabled-bg-color: #3B4455;\n",
              "      --disabled-fill-color: #666;\n",
              "  }\n",
              "\n",
              "  .colab-df-quickchart {\n",
              "    background-color: var(--bg-color);\n",
              "    border: none;\n",
              "    border-radius: 50%;\n",
              "    cursor: pointer;\n",
              "    display: none;\n",
              "    fill: var(--fill-color);\n",
              "    height: 32px;\n",
              "    padding: 0;\n",
              "    width: 32px;\n",
              "  }\n",
              "\n",
              "  .colab-df-quickchart:hover {\n",
              "    background-color: var(--hover-bg-color);\n",
              "    box-shadow: 0 1px 2px rgba(60, 64, 67, 0.3), 0 1px 3px 1px rgba(60, 64, 67, 0.15);\n",
              "    fill: var(--button-hover-fill-color);\n",
              "  }\n",
              "\n",
              "  .colab-df-quickchart-complete:disabled,\n",
              "  .colab-df-quickchart-complete:disabled:hover {\n",
              "    background-color: var(--disabled-bg-color);\n",
              "    fill: var(--disabled-fill-color);\n",
              "    box-shadow: none;\n",
              "  }\n",
              "\n",
              "  .colab-df-spinner {\n",
              "    border: 2px solid var(--fill-color);\n",
              "    border-color: transparent;\n",
              "    border-bottom-color: var(--fill-color);\n",
              "    animation:\n",
              "      spin 1s steps(1) infinite;\n",
              "  }\n",
              "\n",
              "  @keyframes spin {\n",
              "    0% {\n",
              "      border-color: transparent;\n",
              "      border-bottom-color: var(--fill-color);\n",
              "      border-left-color: var(--fill-color);\n",
              "    }\n",
              "    20% {\n",
              "      border-color: transparent;\n",
              "      border-left-color: var(--fill-color);\n",
              "      border-top-color: var(--fill-color);\n",
              "    }\n",
              "    30% {\n",
              "      border-color: transparent;\n",
              "      border-left-color: var(--fill-color);\n",
              "      border-top-color: var(--fill-color);\n",
              "      border-right-color: var(--fill-color);\n",
              "    }\n",
              "    40% {\n",
              "      border-color: transparent;\n",
              "      border-right-color: var(--fill-color);\n",
              "      border-top-color: var(--fill-color);\n",
              "    }\n",
              "    60% {\n",
              "      border-color: transparent;\n",
              "      border-right-color: var(--fill-color);\n",
              "    }\n",
              "    80% {\n",
              "      border-color: transparent;\n",
              "      border-right-color: var(--fill-color);\n",
              "      border-bottom-color: var(--fill-color);\n",
              "    }\n",
              "    90% {\n",
              "      border-color: transparent;\n",
              "      border-bottom-color: var(--fill-color);\n",
              "    }\n",
              "  }\n",
              "</style>\n",
              "\n",
              "  <script>\n",
              "    async function quickchart(key) {\n",
              "      const quickchartButtonEl =\n",
              "        document.querySelector('#' + key + ' button');\n",
              "      quickchartButtonEl.disabled = true;  // To prevent multiple clicks.\n",
              "      quickchartButtonEl.classList.add('colab-df-spinner');\n",
              "      try {\n",
              "        const charts = await google.colab.kernel.invokeFunction(\n",
              "            'suggestCharts', [key], {});\n",
              "      } catch (error) {\n",
              "        console.error('Error during call to suggestCharts:', error);\n",
              "      }\n",
              "      quickchartButtonEl.classList.remove('colab-df-spinner');\n",
              "      quickchartButtonEl.classList.add('colab-df-quickchart-complete');\n",
              "    }\n",
              "    (() => {\n",
              "      let quickchartButtonEl =\n",
              "        document.querySelector('#df-d8439e60-517e-4cc2-9e92-df1713e41a02 button');\n",
              "      quickchartButtonEl.style.display =\n",
              "        google.colab.kernel.accessAllowed ? 'block' : 'none';\n",
              "    })();\n",
              "  </script>\n",
              "</div>\n",
              "\n",
              "  <div id=\"id_5ae020d9-2593-4778-82d6-5ac0942c2721\">\n",
              "    <style>\n",
              "      .colab-df-generate {\n",
              "        background-color: #E8F0FE;\n",
              "        border: none;\n",
              "        border-radius: 50%;\n",
              "        cursor: pointer;\n",
              "        display: none;\n",
              "        fill: #1967D2;\n",
              "        height: 32px;\n",
              "        padding: 0 0 0 0;\n",
              "        width: 32px;\n",
              "      }\n",
              "\n",
              "      .colab-df-generate:hover {\n",
              "        background-color: #E2EBFA;\n",
              "        box-shadow: 0px 1px 2px rgba(60, 64, 67, 0.3), 0px 1px 3px 1px rgba(60, 64, 67, 0.15);\n",
              "        fill: #174EA6;\n",
              "      }\n",
              "\n",
              "      [theme=dark] .colab-df-generate {\n",
              "        background-color: #3B4455;\n",
              "        fill: #D2E3FC;\n",
              "      }\n",
              "\n",
              "      [theme=dark] .colab-df-generate:hover {\n",
              "        background-color: #434B5C;\n",
              "        box-shadow: 0px 1px 3px 1px rgba(0, 0, 0, 0.15);\n",
              "        filter: drop-shadow(0px 1px 2px rgba(0, 0, 0, 0.3));\n",
              "        fill: #FFFFFF;\n",
              "      }\n",
              "    </style>\n",
              "    <button class=\"colab-df-generate\" onclick=\"generateWithVariable('df')\"\n",
              "            title=\"Generate code using this dataframe.\"\n",
              "            style=\"display:none;\">\n",
              "\n",
              "  <svg xmlns=\"http://www.w3.org/2000/svg\" height=\"24px\"viewBox=\"0 0 24 24\"\n",
              "       width=\"24px\">\n",
              "    <path d=\"M7,19H8.4L18.45,9,17,7.55,7,17.6ZM5,21V16.75L18.45,3.32a2,2,0,0,1,2.83,0l1.4,1.43a1.91,1.91,0,0,1,.58,1.4,1.91,1.91,0,0,1-.58,1.4L9.25,21ZM18.45,9,17,7.55Zm-12,3A5.31,5.31,0,0,0,4.9,8.1,5.31,5.31,0,0,0,1,6.5,5.31,5.31,0,0,0,4.9,4.9,5.31,5.31,0,0,0,6.5,1,5.31,5.31,0,0,0,8.1,4.9,5.31,5.31,0,0,0,12,6.5,5.46,5.46,0,0,0,6.5,12Z\"/>\n",
              "  </svg>\n",
              "    </button>\n",
              "    <script>\n",
              "      (() => {\n",
              "      const buttonEl =\n",
              "        document.querySelector('#id_5ae020d9-2593-4778-82d6-5ac0942c2721 button.colab-df-generate');\n",
              "      buttonEl.style.display =\n",
              "        google.colab.kernel.accessAllowed ? 'block' : 'none';\n",
              "\n",
              "      buttonEl.onclick = () => {\n",
              "        google.colab.notebook.generateWithVariable('df');\n",
              "      }\n",
              "      })();\n",
              "    </script>\n",
              "  </div>\n",
              "\n",
              "    </div>\n",
              "  </div>\n"
            ],
            "application/vnd.google.colaboratory.intrinsic+json": {
              "type": "dataframe",
              "variable_name": "df",
              "summary": "{\n  \"name\": \"df\",\n  \"rows\": 71,\n  \"fields\": [\n    {\n      \"column\": \"Predicted value\",\n      \"properties\": {\n        \"dtype\": \"number\",\n        \"std\": 11.701829408972651,\n        \"min\": 107.83863572486443,\n        \"max\": 149.8274613662849,\n        \"num_unique_values\": 71,\n        \"samples\": [\n          118.1164236008294,\n          107.83863572486443,\n          128.09721386079886\n        ],\n        \"semantic_type\": \"\",\n        \"description\": \"\"\n      }\n    },\n    {\n      \"column\": \"Real Value\",\n      \"properties\": {\n        \"dtype\": \"number\",\n        \"std\": 9.37804292986279,\n        \"min\": 108.9681557,\n        \"max\": 144.0756161,\n        \"num_unique_values\": 67,\n        \"samples\": [\n          125.7117137,\n          116.6647913,\n          111.5337009\n        ],\n        \"semantic_type\": \"\",\n        \"description\": \"\"\n      }\n    }\n  ]\n}"
            }
          },
          "metadata": {},
          "execution_count": 22
        }
      ]
    },
    {
      "cell_type": "code",
      "source": [
        "mae_train, mae_test, rmse_train, rmse_test = get_mae_rmse(model2, int(mergedData.shape[0]*0.2))\n",
        "print(\"Mean Absolute Error on Training Data: {:.2f}\".format(mae_train))\n",
        "print(\"Mean Absolute Error on Testing Data: {:.2f}\".format(mae_test))\n",
        "print(\"Root Mean Squared Error on Training Data: {:.2f}\".format(rmse_train))\n",
        "print(\"Root Mean Squared Error on Testing Data: {:.2f}\".format(rmse_test))"
      ],
      "metadata": {
        "colab": {
          "base_uri": "https://localhost:8080/"
        },
        "id": "Q2gcflo78pYj",
        "outputId": "2168d349-e8ce-4d11-9cbf-42a0177d18f0"
      },
      "execution_count": null,
      "outputs": [
        {
          "output_type": "stream",
          "name": "stdout",
          "text": [
            "Mean Absolute Error on Training Data: 0.85\n",
            "Mean Absolute Error on Testing Data: 3.36\n",
            "Root Mean Squared Error on Training Data: 1.18\n",
            "Root Mean Squared Error on Testing Data: 4.51\n"
          ]
        }
      ]
    },
    {
      "cell_type": "code",
      "source": [
        "plot_importance_graph(model2, 'linear')"
      ],
      "metadata": {
        "colab": {
          "base_uri": "https://localhost:8080/",
          "height": 458
        },
        "id": "dE622-SMnqLZ",
        "outputId": "6a38b6bc-f248-4ad6-eac7-01a38c2dc935"
      },
      "execution_count": null,
      "outputs": [
        {
          "output_type": "display_data",
          "data": {
            "text/plain": [
              "<Figure size 640x480 with 1 Axes>"
            ],
            "image/png": "[encoded data removed]"
          },
          "metadata": {}
        }
      ]
    },
    {
      "cell_type": "code",
      "source": [
        "plot_SVR('linear', int(mergedData.shape[0]*0.2))"
      ],
      "metadata": {
        "colab": {
          "base_uri": "https://localhost:8080/",
          "height": 524
        },
        "id": "nbk-F6wJ4IX_",
        "outputId": "6a339841-527b-4494-8133-b1ddae9a9ef1"
      },
      "execution_count": null,
      "outputs": [
        {
          "output_type": "stream",
          "name": "stdout",
          "text": [
            "{71: {'MAE': 3.36, 'RMSE': 4.51}}\n"
          ]
        },
        {
          "output_type": "display_data",
          "data": {
            "text/plain": [
              "<Figure size 1000x500 with 1 Axes>"
            ],
            "image/png": "[encoded data removed]"
          },
          "metadata": {}
        }
      ]
    },
    {
      "cell_type": "markdown",
      "source": [
        "### Forecast (Interactive plot)"
      ],
      "metadata": {
        "id": "FEStmnfqofRn"
      }
    },
    {
      "cell_type": "code",
      "source": [
        "ipywidgets.interact(plot_SVR, kernel=['linear', 'rbf'], duration=ipywidgets.SelectionSlider(options=[1, 3, 6, 12, 24]))"
      ],
      "metadata": {
        "colab": {
          "base_uri": "https://localhost:8080/",
          "height": 675,
          "referenced_widgets": [
            "e1b7bee2933344e1892748d966f3cc16",
            "3ee06aa42cf04c5eb404b96caf4ccea6",
            "256116a60d234a058b33dcf0e69c1ce2",
            "6382da12457a4d7d86c637c5eb000d4a",
            "6b8ab9b425ac472ea1bd1be73789dfbc",
            "a9afc9392735498e915533b4fe3c111b",
            "7c42ed490ca6437cb9b395a549b8ece1",
            "0debcdcc0ce7467ba6997fe161287949",
            "47b22ca5c91d414c845a7ed1b40e32ca",
            "2c0b3181c2e340e6903ff4537ec683ed"
          ]
        },
        "id": "Cz7BY3lJohVu",
        "outputId": "2a0d2f94-58fb-494d-db38-af266cbfd387"
      },
      "execution_count": null,
      "outputs": [
        {
          "output_type": "display_data",
          "data": {
            "text/plain": [
              "interactive(children=(Dropdown(description='kernel', options=('linear', 'rbf'), value='linear'), SelectionSlid…"
            ],
            "application/vnd.jupyter.widget-view+json": {
              "version_major": 2,
              "version_minor": 0,
              "model_id": "e1b7bee2933344e1892748d966f3cc16"
            }
          },
          "metadata": {}
        },
        {
          "output_type": "execute_result",
          "data": {
            "text/plain": [
              "<function __main__.plot_SVR(kernel, duration)>"
            ],
            "text/html": [
              "<div style=\"max-width:800px; border: 1px solid var(--colab-border-color);\"><style>\n",
              "      pre.function-repr-contents {\n",
              "        overflow-x: auto;\n",
              "        padding: 8px 12px;\n",
              "        max-height: 500px;\n",
              "      }\n",
              "\n",
              "      pre.function-repr-contents.function-repr-contents-collapsed {\n",
              "        cursor: pointer;\n",
              "        max-height: 100px;\n",
              "      }\n",
              "    </style>\n",
              "    <pre style=\"white-space: initial; background:\n",
              "         var(--colab-secondary-surface-color); padding: 8px 12px;\n",
              "         border-bottom: 1px solid var(--colab-border-color);\"><b>plot_SVR</b><br/>def plot_SVR(kernel, duration)</pre><pre class=\"function-repr-contents function-repr-contents-collapsed\" style=\"\"><a class=\"filepath\" style=\"display:none\" href=\"#\">/content/&lt;ipython-input-10-40cd8b4c8ead&gt;</a>&lt;no docstring&gt;</pre></div>"
            ]
          },
          "metadata": {},
          "execution_count": 26
        }
      ]
    }
  ]
}